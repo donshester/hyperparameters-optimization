{
 "cells": [
  {
   "cell_type": "code",
   "execution_count": 4,
   "metadata": {},
   "outputs": [],
   "source": [
    "import pandas as pd \n",
    "import numpy as np\n",
    "\n",
    "from sklearn import linear_model \n",
    "from sklearn import ensemble\n",
    "from sklearn import preprocessing \n",
    "from sklearn import tree \n",
    "from sklearn import ensemble\n",
    "from sklearn import metrics \n",
    "from sklearn import model_selection\n",
    "from sklearn.model_selection import train_test_split \n",
    "\n",
    "import optuna\n",
    "import matplotlib.pyplot as plt \n",
    "import seaborn as sns \n",
    "\n",
    "from sklearn.model_selection import RandomizedSearchCV\n",
    "from sklearn.model_selection import GridSearchCV\n",
    "import hyperopt"
   ]
  },
  {
   "cell_type": "code",
   "execution_count": 2,
   "metadata": {},
   "outputs": [
    {
     "data": {
      "text/html": [
       "<div>\n",
       "<style scoped>\n",
       "    .dataframe tbody tr th:only-of-type {\n",
       "        vertical-align: middle;\n",
       "    }\n",
       "\n",
       "    .dataframe tbody tr th {\n",
       "        vertical-align: top;\n",
       "    }\n",
       "\n",
       "    .dataframe thead th {\n",
       "        text-align: right;\n",
       "    }\n",
       "</style>\n",
       "<table border=\"1\" class=\"dataframe\">\n",
       "  <thead>\n",
       "    <tr style=\"text-align: right;\">\n",
       "      <th></th>\n",
       "      <th>Activity</th>\n",
       "      <th>D1</th>\n",
       "      <th>D2</th>\n",
       "      <th>D3</th>\n",
       "      <th>D4</th>\n",
       "      <th>D5</th>\n",
       "      <th>D6</th>\n",
       "      <th>D7</th>\n",
       "      <th>D8</th>\n",
       "      <th>D9</th>\n",
       "      <th>...</th>\n",
       "      <th>D1767</th>\n",
       "      <th>D1768</th>\n",
       "      <th>D1769</th>\n",
       "      <th>D1770</th>\n",
       "      <th>D1771</th>\n",
       "      <th>D1772</th>\n",
       "      <th>D1773</th>\n",
       "      <th>D1774</th>\n",
       "      <th>D1775</th>\n",
       "      <th>D1776</th>\n",
       "    </tr>\n",
       "  </thead>\n",
       "  <tbody>\n",
       "    <tr>\n",
       "      <th>0</th>\n",
       "      <td>1</td>\n",
       "      <td>0.000000</td>\n",
       "      <td>0.497009</td>\n",
       "      <td>0.10</td>\n",
       "      <td>0.0</td>\n",
       "      <td>0.132956</td>\n",
       "      <td>0.678031</td>\n",
       "      <td>0.273166</td>\n",
       "      <td>0.585445</td>\n",
       "      <td>0.743663</td>\n",
       "      <td>...</td>\n",
       "      <td>0</td>\n",
       "      <td>0</td>\n",
       "      <td>0</td>\n",
       "      <td>0</td>\n",
       "      <td>0</td>\n",
       "      <td>0</td>\n",
       "      <td>0</td>\n",
       "      <td>0</td>\n",
       "      <td>0</td>\n",
       "      <td>0</td>\n",
       "    </tr>\n",
       "    <tr>\n",
       "      <th>1</th>\n",
       "      <td>1</td>\n",
       "      <td>0.366667</td>\n",
       "      <td>0.606291</td>\n",
       "      <td>0.05</td>\n",
       "      <td>0.0</td>\n",
       "      <td>0.111209</td>\n",
       "      <td>0.803455</td>\n",
       "      <td>0.106105</td>\n",
       "      <td>0.411754</td>\n",
       "      <td>0.836582</td>\n",
       "      <td>...</td>\n",
       "      <td>1</td>\n",
       "      <td>1</td>\n",
       "      <td>1</td>\n",
       "      <td>1</td>\n",
       "      <td>0</td>\n",
       "      <td>1</td>\n",
       "      <td>0</td>\n",
       "      <td>0</td>\n",
       "      <td>1</td>\n",
       "      <td>0</td>\n",
       "    </tr>\n",
       "    <tr>\n",
       "      <th>2</th>\n",
       "      <td>1</td>\n",
       "      <td>0.033300</td>\n",
       "      <td>0.480124</td>\n",
       "      <td>0.00</td>\n",
       "      <td>0.0</td>\n",
       "      <td>0.209791</td>\n",
       "      <td>0.610350</td>\n",
       "      <td>0.356453</td>\n",
       "      <td>0.517720</td>\n",
       "      <td>0.679051</td>\n",
       "      <td>...</td>\n",
       "      <td>0</td>\n",
       "      <td>0</td>\n",
       "      <td>0</td>\n",
       "      <td>0</td>\n",
       "      <td>0</td>\n",
       "      <td>0</td>\n",
       "      <td>0</td>\n",
       "      <td>0</td>\n",
       "      <td>0</td>\n",
       "      <td>0</td>\n",
       "    </tr>\n",
       "    <tr>\n",
       "      <th>3</th>\n",
       "      <td>1</td>\n",
       "      <td>0.000000</td>\n",
       "      <td>0.538825</td>\n",
       "      <td>0.00</td>\n",
       "      <td>0.5</td>\n",
       "      <td>0.196344</td>\n",
       "      <td>0.724230</td>\n",
       "      <td>0.235606</td>\n",
       "      <td>0.288764</td>\n",
       "      <td>0.805110</td>\n",
       "      <td>...</td>\n",
       "      <td>0</td>\n",
       "      <td>0</td>\n",
       "      <td>0</td>\n",
       "      <td>0</td>\n",
       "      <td>0</td>\n",
       "      <td>0</td>\n",
       "      <td>0</td>\n",
       "      <td>0</td>\n",
       "      <td>0</td>\n",
       "      <td>0</td>\n",
       "    </tr>\n",
       "    <tr>\n",
       "      <th>4</th>\n",
       "      <td>0</td>\n",
       "      <td>0.100000</td>\n",
       "      <td>0.517794</td>\n",
       "      <td>0.00</td>\n",
       "      <td>0.0</td>\n",
       "      <td>0.494734</td>\n",
       "      <td>0.781422</td>\n",
       "      <td>0.154361</td>\n",
       "      <td>0.303809</td>\n",
       "      <td>0.812646</td>\n",
       "      <td>...</td>\n",
       "      <td>0</td>\n",
       "      <td>0</td>\n",
       "      <td>0</td>\n",
       "      <td>0</td>\n",
       "      <td>0</td>\n",
       "      <td>0</td>\n",
       "      <td>0</td>\n",
       "      <td>0</td>\n",
       "      <td>0</td>\n",
       "      <td>0</td>\n",
       "    </tr>\n",
       "  </tbody>\n",
       "</table>\n",
       "<p>5 rows × 1777 columns</p>\n",
       "</div>"
      ],
      "text/plain": [
       "   Activity        D1        D2    D3   D4        D5        D6        D7  \\\n",
       "0         1  0.000000  0.497009  0.10  0.0  0.132956  0.678031  0.273166   \n",
       "1         1  0.366667  0.606291  0.05  0.0  0.111209  0.803455  0.106105   \n",
       "2         1  0.033300  0.480124  0.00  0.0  0.209791  0.610350  0.356453   \n",
       "3         1  0.000000  0.538825  0.00  0.5  0.196344  0.724230  0.235606   \n",
       "4         0  0.100000  0.517794  0.00  0.0  0.494734  0.781422  0.154361   \n",
       "\n",
       "         D8        D9  ...  D1767  D1768  D1769  D1770  D1771  D1772  D1773  \\\n",
       "0  0.585445  0.743663  ...      0      0      0      0      0      0      0   \n",
       "1  0.411754  0.836582  ...      1      1      1      1      0      1      0   \n",
       "2  0.517720  0.679051  ...      0      0      0      0      0      0      0   \n",
       "3  0.288764  0.805110  ...      0      0      0      0      0      0      0   \n",
       "4  0.303809  0.812646  ...      0      0      0      0      0      0      0   \n",
       "\n",
       "   D1774  D1775  D1776  \n",
       "0      0      0      0  \n",
       "1      0      1      0  \n",
       "2      0      0      0  \n",
       "3      0      0      0  \n",
       "4      0      0      0  \n",
       "\n",
       "[5 rows x 1777 columns]"
      ]
     },
     "execution_count": 2,
     "metadata": {},
     "output_type": "execute_result"
    }
   ],
   "source": [
    "data=pd.read_csv(r\"C:/Users/влад/Downloads/_train_sem09__1_/_train_sem09 (1).csv\")\n",
    "data.head()"
   ]
  },
  {
   "cell_type": "markdown",
   "metadata": {},
   "source": [
    "**Логистическая регрессия**"
   ]
  },
  {
   "cell_type": "code",
   "execution_count": 3,
   "metadata": {},
   "outputs": [],
   "source": [
    "X=data.drop(columns='Activity')\n",
    "y=data['Activity']\n",
    "\n",
    "X_train, X_test, y_train, y_test = train_test_split(X, y, stratify=y, random_state = 1, test_size = 0.2)"
   ]
  },
  {
   "cell_type": "markdown",
   "metadata": {},
   "source": [
    "GridSearchCV\n"
   ]
  },
  {
   "cell_type": "code",
   "execution_count": 7,
   "metadata": {},
   "outputs": [
    {
     "name": "stderr",
     "output_type": "stream",
     "text": [
      "C:\\Users\\влад\\AppData\\Roaming\\Python\\Python38\\site-packages\\sklearn\\model_selection\\_validation.py:378: FitFailedWarning: \n",
      "75 fits failed out of a total of 225.\n",
      "The score on these train-test partitions for these parameters will be set to nan.\n",
      "If these failures are not expected, you can try to debug them by setting error_score='raise'.\n",
      "\n",
      "Below are more details about the failures:\n",
      "--------------------------------------------------------------------------------\n",
      "25 fits failed with the following error:\n",
      "Traceback (most recent call last):\n",
      "  File \"C:\\Users\\влад\\AppData\\Roaming\\Python\\Python38\\site-packages\\sklearn\\model_selection\\_validation.py\", line 686, in _fit_and_score\n",
      "    estimator.fit(X_train, y_train, **fit_params)\n",
      "  File \"C:\\Users\\влад\\AppData\\Roaming\\Python\\Python38\\site-packages\\sklearn\\linear_model\\_logistic.py\", line 1091, in fit\n",
      "    solver = _check_solver(self.solver, self.penalty, self.dual)\n",
      "  File \"C:\\Users\\влад\\AppData\\Roaming\\Python\\Python38\\site-packages\\sklearn\\linear_model\\_logistic.py\", line 61, in _check_solver\n",
      "    raise ValueError(\n",
      "ValueError: Solver lbfgs supports only 'l2' or 'none' penalties, got l1 penalty.\n",
      "\n",
      "--------------------------------------------------------------------------------\n",
      "25 fits failed with the following error:\n",
      "Traceback (most recent call last):\n",
      "  File \"C:\\Users\\влад\\AppData\\Roaming\\Python\\Python38\\site-packages\\sklearn\\model_selection\\_validation.py\", line 686, in _fit_and_score\n",
      "    estimator.fit(X_train, y_train, **fit_params)\n",
      "  File \"C:\\Users\\влад\\AppData\\Roaming\\Python\\Python38\\site-packages\\sklearn\\linear_model\\_logistic.py\", line 1091, in fit\n",
      "    solver = _check_solver(self.solver, self.penalty, self.dual)\n",
      "  File \"C:\\Users\\влад\\AppData\\Roaming\\Python\\Python38\\site-packages\\sklearn\\linear_model\\_logistic.py\", line 61, in _check_solver\n",
      "    raise ValueError(\n",
      "ValueError: Solver sag supports only 'l2' or 'none' penalties, got l1 penalty.\n",
      "\n",
      "--------------------------------------------------------------------------------\n",
      "25 fits failed with the following error:\n",
      "Traceback (most recent call last):\n",
      "  File \"C:\\Users\\влад\\AppData\\Roaming\\Python\\Python38\\site-packages\\sklearn\\model_selection\\_validation.py\", line 686, in _fit_and_score\n",
      "    estimator.fit(X_train, y_train, **fit_params)\n",
      "  File \"C:\\Users\\влад\\AppData\\Roaming\\Python\\Python38\\site-packages\\sklearn\\linear_model\\_logistic.py\", line 1091, in fit\n",
      "    solver = _check_solver(self.solver, self.penalty, self.dual)\n",
      "  File \"C:\\Users\\влад\\AppData\\Roaming\\Python\\Python38\\site-packages\\sklearn\\linear_model\\_logistic.py\", line 78, in _check_solver\n",
      "    raise ValueError(\"penalty='none' is not supported for the liblinear solver\")\n",
      "ValueError: penalty='none' is not supported for the liblinear solver\n",
      "\n",
      "  warnings.warn(some_fits_failed_message, FitFailedWarning)\n",
      "C:\\Users\\влад\\AppData\\Roaming\\Python\\Python38\\site-packages\\sklearn\\model_selection\\_search.py:953: UserWarning: One or more of the test scores are non-finite: [       nan 0.75366667        nan 0.758      0.75866667 0.759\n",
      " 0.72333333        nan 0.74266667        nan 0.756             nan\n",
      " 0.75633333 0.75566667 0.75666667 0.72333333        nan 0.74266667\n",
      "        nan 0.75366667        nan 0.75066667 0.752      0.75266667\n",
      " 0.72333333        nan 0.74266667        nan 0.74966667        nan\n",
      " 0.74733333 0.74766667 0.749      0.72333333        nan 0.74266667\n",
      "        nan 0.747             nan 0.74733333 0.74733333 0.74433333\n",
      " 0.72333333        nan 0.74266667]\n",
      "  warnings.warn(\n"
     ]
    },
    {
     "name": "stdout",
     "output_type": "stream",
     "text": [
      "Wall time: 41.5 s\n",
      "accuracy на тестовом наборе: 0.77\n",
      "f1_score на тестовом наборе: 0.79\n",
      "Наилучшие значения гиперпараметров: {'C': 0.1, 'penalty': 'l2', 'solver': 'sag'}\n"
     ]
    },
    {
     "name": "stderr",
     "output_type": "stream",
     "text": [
      "C:\\Users\\влад\\AppData\\Roaming\\Python\\Python38\\site-packages\\sklearn\\linear_model\\_sag.py:350: ConvergenceWarning: The max_iter was reached which means the coef_ did not converge\n",
      "  warnings.warn(\n"
     ]
    }
   ],
   "source": [
    "param_grid={\n",
    "    'penalty':['l1', 'l2', 'none'],\n",
    "    'solver' :['lbfgs', 'liblinear', 'sag'],\n",
    "    'C' :[ 0.1, 0.3, 0.5, 0.7, 0.9]\n",
    "}\n",
    "\n",
    "grid_search_1=GridSearchCV(\n",
    "    estimator=linear_model.LogisticRegression(random_state=42),\n",
    "    param_grid=param_grid,\n",
    "    cv=5,\n",
    "    n_jobs=-1\n",
    ")\n",
    "\n",
    "%time grid_search_1.fit(X_train, y_train) \n",
    "print(\"accuracy на тестовом наборе: {:.2f}\".format(grid_search_1.score(X_test, y_test)))\n",
    "y_test_pred = grid_search_1.predict(X_test)\n",
    "print('f1_score на тестовом наборе: {:.2f}'.format(metrics.f1_score(y_test, y_test_pred)))\n",
    "print(\"Наилучшие значения гиперпараметров: {}\".format(grid_search_1.best_params_))"
   ]
  },
  {
   "cell_type": "markdown",
   "metadata": {},
   "source": [
    "В сумме 225 обученных моделей с 5 фолдами кросс-валидации, так что по сути их было 45. Однако из-за того, что некоторые функции ошибки не работают с некоторыми алгоритмами оптимизации, всего вышло не 225, а 150. "
   ]
  },
  {
   "cell_type": "markdown",
   "metadata": {},
   "source": [
    "RandomSearchCV"
   ]
  },
  {
   "cell_type": "code",
   "execution_count": 45,
   "metadata": {},
   "outputs": [],
   "source": [
    "param_distributions={'penalty': ['l2', 'none','l1'],\n",
    "              'solver': ['lbfgs', 'sag','liblinear'],\n",
    "               'C': list (np.linspace(0.001, 0.5, 10, dtype=float))}"
   ]
  },
  {
   "cell_type": "code",
   "execution_count": 46,
   "metadata": {},
   "outputs": [
    {
     "name": "stderr",
     "output_type": "stream",
     "text": [
      "C:\\Users\\влад\\AppData\\Roaming\\Python\\Python38\\site-packages\\sklearn\\model_selection\\_validation.py:378: FitFailedWarning: \n",
      "25 fits failed out of a total of 50.\n",
      "The score on these train-test partitions for these parameters will be set to nan.\n",
      "If these failures are not expected, you can try to debug them by setting error_score='raise'.\n",
      "\n",
      "Below are more details about the failures:\n",
      "--------------------------------------------------------------------------------\n",
      "20 fits failed with the following error:\n",
      "Traceback (most recent call last):\n",
      "  File \"C:\\Users\\влад\\AppData\\Roaming\\Python\\Python38\\site-packages\\sklearn\\model_selection\\_validation.py\", line 686, in _fit_and_score\n",
      "    estimator.fit(X_train, y_train, **fit_params)\n",
      "  File \"C:\\Users\\влад\\AppData\\Roaming\\Python\\Python38\\site-packages\\sklearn\\linear_model\\_logistic.py\", line 1091, in fit\n",
      "    solver = _check_solver(self.solver, self.penalty, self.dual)\n",
      "  File \"C:\\Users\\влад\\AppData\\Roaming\\Python\\Python38\\site-packages\\sklearn\\linear_model\\_logistic.py\", line 61, in _check_solver\n",
      "    raise ValueError(\n",
      "ValueError: Solver lbfgs supports only 'l2' or 'none' penalties, got l1 penalty.\n",
      "\n",
      "--------------------------------------------------------------------------------\n",
      "5 fits failed with the following error:\n",
      "Traceback (most recent call last):\n",
      "  File \"C:\\Users\\влад\\AppData\\Roaming\\Python\\Python38\\site-packages\\sklearn\\model_selection\\_validation.py\", line 686, in _fit_and_score\n",
      "    estimator.fit(X_train, y_train, **fit_params)\n",
      "  File \"C:\\Users\\влад\\AppData\\Roaming\\Python\\Python38\\site-packages\\sklearn\\linear_model\\_logistic.py\", line 1091, in fit\n",
      "    solver = _check_solver(self.solver, self.penalty, self.dual)\n",
      "  File \"C:\\Users\\влад\\AppData\\Roaming\\Python\\Python38\\site-packages\\sklearn\\linear_model\\_logistic.py\", line 78, in _check_solver\n",
      "    raise ValueError(\"penalty='none' is not supported for the liblinear solver\")\n",
      "ValueError: penalty='none' is not supported for the liblinear solver\n",
      "\n",
      "  warnings.warn(some_fits_failed_message, FitFailedWarning)\n",
      "C:\\Users\\влад\\AppData\\Roaming\\Python\\Python38\\site-packages\\sklearn\\model_selection\\_search.py:953: UserWarning: One or more of the test scores are non-finite: [0.75666667        nan        nan 0.74266667        nan        nan\n",
      "        nan 0.75866667 0.74566667 0.72333333]\n",
      "  warnings.warn(\n"
     ]
    },
    {
     "name": "stdout",
     "output_type": "stream",
     "text": [
      "Wall time: 13.1 s\n",
      "accuracy на тестовом наборе: 0.77\n",
      "f1_score на тестовом наборе: 0.80\n",
      "Наилучшие значения гиперпараметров: {'solver': 'sag', 'penalty': 'l2', 'C': 0.05644444444444444}\n"
     ]
    },
    {
     "name": "stderr",
     "output_type": "stream",
     "text": [
      "C:\\Users\\влад\\AppData\\Roaming\\Python\\Python38\\site-packages\\sklearn\\linear_model\\_sag.py:350: ConvergenceWarning: The max_iter was reached which means the coef_ did not converge\n",
      "  warnings.warn(\n"
     ]
    }
   ],
   "source": [
    "random_search=RandomizedSearchCV(\n",
    "    estimator=linear_model.LogisticRegression(random_state=42), \n",
    "    param_distributions=param_distributions, \n",
    "    cv=5, \n",
    "    n_iter = 10, \n",
    "    n_jobs = -1\n",
    ") \n",
    "\n",
    "%time random_search.fit(X_train, y_train) \n",
    "print(\"accuracy на тестовом наборе: {:.2f}\".format(random_search.score(X_test, y_test)))\n",
    "y_test_pred = random_search.predict(X_test)\n",
    "print('f1_score на тестовом наборе: {:.2f}'.format(metrics.f1_score(y_test, y_test_pred)))\n",
    "print(\"Наилучшие значения гиперпараметров: {}\".format(random_search.best_params_))"
   ]
  },
  {
   "cell_type": "markdown",
   "metadata": {},
   "source": [
    "Немного поэксперементировав с параметрами я обнаружил, что если, что есть разные комбинации, которые на таком небольшом количестве комбинаций стремятся к одинаковым метрикам по f1 на тестовой выборке, но для некоторых комбинаций функций ошибки и алгоритмов оптимизации эти значения находятся достаточно далеко друг от друга, поэтому в идеале на подбор комбинаций значений штрафа я бы уделил больше 10 значений. "
   ]
  },
  {
   "cell_type": "markdown",
   "metadata": {},
   "source": [
    "**Cлучайный лес**"
   ]
  },
  {
   "cell_type": "markdown",
   "metadata": {},
   "source": [
    "HyperOpt"
   ]
  },
  {
   "cell_type": "code",
   "execution_count": 51,
   "metadata": {},
   "outputs": [],
   "source": [
    "import hyperopt\n",
    "from hyperopt import hp, fmin, tpe, Trials\n",
    "space={\n",
    "    'n_estimators': hp.quniform('n_estimators', 100, 300, 10),\n",
    "    'max_depth' : hp.quniform('max_depth', 15, 40, 1),\n",
    "    'min_samples_leaf': hp.quniform('min_samples_leaf', 3, 7, 1)\n",
    "    }\n",
    "       "
   ]
  },
  {
   "cell_type": "code",
   "execution_count": 56,
   "metadata": {},
   "outputs": [],
   "source": [
    "random_state = 42\n",
    "\n",
    "def hyperopt_lc(params, cv=5, X=X_train, y=y_train, random_state=random_state):\n",
    "    \n",
    "    params = {'n_estimators': int(params['n_estimators']), \n",
    "              'max_depth': int(params['max_depth']), \n",
    "             'min_samples_leaf': int(params['min_samples_leaf'])\n",
    "              }\n",
    "    \n",
    "    model = ensemble.RandomForestClassifier(**params, random_state=random_state)\n",
    "    model.fit(X, y)\n",
    "    \n",
    "    score = model_selection.cross_val_score(model, X, y, cv=cv, scoring=\"f1\", n_jobs=-1).mean()\n",
    "    \n",
    "    return -score"
   ]
  },
  {
   "cell_type": "code",
   "execution_count": 57,
   "metadata": {},
   "outputs": [
    {
     "name": "stdout",
     "output_type": "stream",
     "text": [
      "Wall time: 0 ns\n",
      "100%|██████████| 50/50 [05:19<00:00,  6.39s/trial, best loss: -0.8134764336673482]\n",
      "Наилучшие значения гиперпараметров {'max_depth': 25.0, 'min_samples_leaf': 3.0, 'n_estimators': 270.0}\n"
     ]
    }
   ],
   "source": [
    "%time\n",
    "\n",
    "trials = Trials() \n",
    "\n",
    "best=fmin(hyperopt_lc, \n",
    "          space=space,\n",
    "          algo=tpe.suggest, \n",
    "          max_evals=50, \n",
    "          trials=trials,\n",
    "          rstate=np.random.RandomState(random_state)\n",
    "         )\n",
    "print(\"Наилучшие значения гиперпараметров {}\".format(best))"
   ]
  },
  {
   "cell_type": "markdown",
   "metadata": {},
   "source": [
    "Optuna\n"
   ]
  },
  {
   "cell_type": "code",
   "execution_count": 59,
   "metadata": {},
   "outputs": [],
   "source": [
    "def optuna_rf(trial):\n",
    "  \n",
    "  n_estimators = trial.suggest_int('n_estimators', 150, 400, 10)\n",
    "  max_depth = trial.suggest_int('max_depth', 10, 35, 1)\n",
    "  min_samples_leaf = trial.suggest_int('min_samples_leaf', 3, 7, 1)\n",
    "\n",
    "  \n",
    "  model = ensemble.RandomForestClassifier(n_estimators=n_estimators,\n",
    "                                          max_depth=max_depth,\n",
    "                                          min_samples_leaf=min_samples_leaf,\n",
    "                                          random_state=random_state)\n",
    "  \n",
    "  model.fit(X_train, y_train)\n",
    "  score = metrics.f1_score(y_train, model.predict(X_train))\n",
    "\n",
    "  return score  "
   ]
  },
  {
   "cell_type": "code",
   "execution_count": 60,
   "metadata": {},
   "outputs": [
    {
     "name": "stderr",
     "output_type": "stream",
     "text": [
      "\u001b[32m[I 2022-08-14 23:40:44,905]\u001b[0m A new study created in memory with name: RandomForestClassifier\u001b[0m\n",
      "\u001b[32m[I 2022-08-14 23:40:48,358]\u001b[0m Trial 0 finished with value: 0.9196319018404907 and parameters: {'n_estimators': 330, 'max_depth': 12, 'min_samples_leaf': 6}. Best is trial 0 with value: 0.9196319018404907.\u001b[0m\n",
      "\u001b[32m[I 2022-08-14 23:40:50,804]\u001b[0m Trial 1 finished with value: 0.9462759462759464 and parameters: {'n_estimators': 210, 'max_depth': 27, 'min_samples_leaf': 5}. Best is trial 1 with value: 0.9462759462759464.\u001b[0m\n",
      "\u001b[32m[I 2022-08-14 23:40:55,022]\u001b[0m Trial 2 finished with value: 0.9460858970453853 and parameters: {'n_estimators': 350, 'max_depth': 18, 'min_samples_leaf': 5}. Best is trial 1 with value: 0.9462759462759464.\u001b[0m\n",
      "\u001b[32m[I 2022-08-14 23:40:59,297]\u001b[0m Trial 3 finished with value: 0.9374427830332622 and parameters: {'n_estimators': 390, 'max_depth': 14, 'min_samples_leaf': 5}. Best is trial 1 with value: 0.9462759462759464.\u001b[0m\n",
      "\u001b[32m[I 2022-08-14 23:41:03,022]\u001b[0m Trial 4 finished with value: 0.958142377024137 and parameters: {'n_estimators': 280, 'max_depth': 24, 'min_samples_leaf': 4}. Best is trial 4 with value: 0.958142377024137.\u001b[0m\n",
      "\u001b[32m[I 2022-08-14 23:41:06,544]\u001b[0m Trial 5 finished with value: 0.9472721731179519 and parameters: {'n_estimators': 250, 'max_depth': 22, 'min_samples_leaf': 5}. Best is trial 4 with value: 0.958142377024137.\u001b[0m\n",
      "\u001b[32m[I 2022-08-14 23:41:08,731]\u001b[0m Trial 6 finished with value: 0.9550870760769935 and parameters: {'n_estimators': 160, 'max_depth': 20, 'min_samples_leaf': 4}. Best is trial 4 with value: 0.958142377024137.\u001b[0m\n",
      "\u001b[32m[I 2022-08-14 23:41:11,443]\u001b[0m Trial 7 finished with value: 0.9232650565576276 and parameters: {'n_estimators': 240, 'max_depth': 17, 'min_samples_leaf': 7}. Best is trial 4 with value: 0.958142377024137.\u001b[0m\n",
      "\u001b[32m[I 2022-08-14 23:41:15,360]\u001b[0m Trial 8 finished with value: 0.9212863705972434 and parameters: {'n_estimators': 360, 'max_depth': 15, 'min_samples_leaf': 7}. Best is trial 4 with value: 0.958142377024137.\u001b[0m\n",
      "\u001b[32m[I 2022-08-14 23:41:18,522]\u001b[0m Trial 9 finished with value: 0.9046889365614466 and parameters: {'n_estimators': 320, 'max_depth': 11, 'min_samples_leaf': 7}. Best is trial 4 with value: 0.958142377024137.\u001b[0m\n",
      "\u001b[32m[I 2022-08-14 23:41:22,233]\u001b[0m Trial 10 finished with value: 0.9782808198225759 and parameters: {'n_estimators': 290, 'max_depth': 34, 'min_samples_leaf': 3}. Best is trial 10 with value: 0.9782808198225759.\u001b[0m\n",
      "\u001b[32m[I 2022-08-14 23:41:25,943]\u001b[0m Trial 11 finished with value: 0.97796817625459 and parameters: {'n_estimators': 280, 'max_depth': 35, 'min_samples_leaf': 3}. Best is trial 10 with value: 0.9782808198225759.\u001b[0m\n",
      "\u001b[32m[I 2022-08-14 23:41:29,819]\u001b[0m Trial 12 finished with value: 0.9782808198225759 and parameters: {'n_estimators': 300, 'max_depth': 35, 'min_samples_leaf': 3}. Best is trial 10 with value: 0.9782808198225759.\u001b[0m\n",
      "\u001b[32m[I 2022-08-14 23:41:33,976]\u001b[0m Trial 13 finished with value: 0.9782808198225759 and parameters: {'n_estimators': 300, 'max_depth': 35, 'min_samples_leaf': 3}. Best is trial 10 with value: 0.9782808198225759.\u001b[0m\n",
      "\u001b[32m[I 2022-08-14 23:41:36,931]\u001b[0m Trial 14 finished with value: 0.9788797061524334 and parameters: {'n_estimators': 200, 'max_depth': 30, 'min_samples_leaf': 3}. Best is trial 14 with value: 0.9788797061524334.\u001b[0m\n",
      "\u001b[32m[I 2022-08-14 23:41:38,872]\u001b[0m Trial 15 finished with value: 0.9571603427172583 and parameters: {'n_estimators': 150, 'max_depth': 30, 'min_samples_leaf': 4}. Best is trial 14 with value: 0.9788797061524334.\u001b[0m\n",
      "\u001b[32m[I 2022-08-14 23:41:41,402]\u001b[0m Trial 16 finished with value: 0.9785801713586292 and parameters: {'n_estimators': 190, 'max_depth': 31, 'min_samples_leaf': 3}. Best is trial 14 with value: 0.9788797061524334.\u001b[0m\n",
      "\u001b[32m[I 2022-08-14 23:41:43,774]\u001b[0m Trial 17 finished with value: 0.9577464788732394 and parameters: {'n_estimators': 190, 'max_depth': 30, 'min_samples_leaf': 4}. Best is trial 14 with value: 0.9788797061524334.\u001b[0m\n",
      "\u001b[32m[I 2022-08-14 23:41:46,453]\u001b[0m Trial 18 finished with value: 0.9788797061524334 and parameters: {'n_estimators': 200, 'max_depth': 31, 'min_samples_leaf': 3}. Best is trial 14 with value: 0.9788797061524334.\u001b[0m\n",
      "\u001b[32m[I 2022-08-14 23:41:49,098]\u001b[0m Trial 19 finished with value: 0.9342708651788444 and parameters: {'n_estimators': 230, 'max_depth': 26, 'min_samples_leaf': 6}. Best is trial 14 with value: 0.9788797061524334.\u001b[0m\n",
      "\u001b[32m[I 2022-08-14 23:41:51,481]\u001b[0m Trial 20 finished with value: 0.9574533210896847 and parameters: {'n_estimators': 190, 'max_depth': 27, 'min_samples_leaf': 4}. Best is trial 14 with value: 0.9788797061524334.\u001b[0m\n",
      "\u001b[32m[I 2022-08-14 23:41:53,902]\u001b[0m Trial 21 finished with value: 0.978267523722069 and parameters: {'n_estimators': 180, 'max_depth': 31, 'min_samples_leaf': 3}. Best is trial 14 with value: 0.9788797061524334.\u001b[0m\n",
      "\u001b[32m[I 2022-08-14 23:41:56,833]\u001b[0m Trial 22 finished with value: 0.9779816513761468 and parameters: {'n_estimators': 220, 'max_depth': 32, 'min_samples_leaf': 3}. Best is trial 14 with value: 0.9788797061524334.\u001b[0m\n",
      "\u001b[32m[I 2022-08-14 23:42:00,232]\u001b[0m Trial 23 finished with value: 0.9773561811505507 and parameters: {'n_estimators': 260, 'max_depth': 29, 'min_samples_leaf': 3}. Best is trial 14 with value: 0.9788797061524334.\u001b[0m\n",
      "\u001b[32m[I 2022-08-14 23:42:02,860]\u001b[0m Trial 24 finished with value: 0.9586776859504132 and parameters: {'n_estimators': 210, 'max_depth': 32, 'min_samples_leaf': 4}. Best is trial 14 with value: 0.9788797061524334.\u001b[0m\n",
      "\u001b[32m[I 2022-08-14 23:42:05,108]\u001b[0m Trial 25 finished with value: 0.97796817625459 and parameters: {'n_estimators': 170, 'max_depth': 25, 'min_samples_leaf': 3}. Best is trial 14 with value: 0.9788797061524334.\u001b[0m\n",
      "\u001b[32m[I 2022-08-14 23:42:07,568]\u001b[0m Trial 26 finished with value: 0.9577464788732394 and parameters: {'n_estimators': 190, 'max_depth': 28, 'min_samples_leaf': 4}. Best is trial 14 with value: 0.9788797061524334.\u001b[0m\n",
      "\u001b[32m[I 2022-08-14 23:42:10,306]\u001b[0m Trial 27 finished with value: 0.978267523722069 and parameters: {'n_estimators': 210, 'max_depth': 33, 'min_samples_leaf': 3}. Best is trial 14 with value: 0.9788797061524334.\u001b[0m\n",
      "\u001b[32m[I 2022-08-14 23:42:12,163]\u001b[0m Trial 28 finished with value: 0.9568675435913123 and parameters: {'n_estimators': 150, 'max_depth': 24, 'min_samples_leaf': 4}. Best is trial 14 with value: 0.9788797061524334.\u001b[0m\n",
      "\u001b[32m[I 2022-08-14 23:42:15,448]\u001b[0m Trial 29 finished with value: 0.9339449541284404 and parameters: {'n_estimators': 250, 'max_depth': 22, 'min_samples_leaf': 6}. Best is trial 14 with value: 0.9788797061524334.\u001b[0m\n",
      "\u001b[32m[I 2022-08-14 23:42:18,251]\u001b[0m Trial 30 finished with value: 0.9785801713586292 and parameters: {'n_estimators': 200, 'max_depth': 29, 'min_samples_leaf': 3}. Best is trial 14 with value: 0.9788797061524334.\u001b[0m\n",
      "\u001b[32m[I 2022-08-14 23:42:20,515]\u001b[0m Trial 31 finished with value: 0.9776690119302539 and parameters: {'n_estimators': 170, 'max_depth': 29, 'min_samples_leaf': 3}. Best is trial 14 with value: 0.9788797061524334.\u001b[0m\n",
      "\u001b[32m[I 2022-08-14 23:42:23,216]\u001b[0m Trial 32 finished with value: 0.9788797061524334 and parameters: {'n_estimators': 200, 'max_depth': 32, 'min_samples_leaf': 3}. Best is trial 14 with value: 0.9788797061524334.\u001b[0m\n",
      "\u001b[32m[I 2022-08-14 23:42:26,048]\u001b[0m Trial 33 finished with value: 0.97796817625459 and parameters: {'n_estimators': 210, 'max_depth': 28, 'min_samples_leaf': 3}. Best is trial 14 with value: 0.9788797061524334.\u001b[0m\n",
      "\u001b[32m[I 2022-08-14 23:42:28,979]\u001b[0m Trial 34 finished with value: 0.9577981651376146 and parameters: {'n_estimators': 230, 'max_depth': 33, 'min_samples_leaf': 4}. Best is trial 14 with value: 0.9788797061524334.\u001b[0m\n",
      "\u001b[32m[I 2022-08-14 23:42:31,691]\u001b[0m Trial 35 finished with value: 0.9785801713586292 and parameters: {'n_estimators': 200, 'max_depth': 27, 'min_samples_leaf': 3}. Best is trial 14 with value: 0.9788797061524334.\u001b[0m\n",
      "\u001b[32m[I 2022-08-14 23:42:34,470]\u001b[0m Trial 36 finished with value: 0.9459871833994508 and parameters: {'n_estimators': 230, 'max_depth': 26, 'min_samples_leaf': 5}. Best is trial 14 with value: 0.9788797061524334.\u001b[0m\n",
      "\u001b[32m[I 2022-08-14 23:42:37,773]\u001b[0m Trial 37 finished with value: 0.9581679389312977 and parameters: {'n_estimators': 260, 'max_depth': 33, 'min_samples_leaf': 4}. Best is trial 14 with value: 0.9788797061524334.\u001b[0m\n",
      "\u001b[32m[I 2022-08-14 23:42:39,902]\u001b[0m Trial 38 finished with value: 0.9466300701433363 and parameters: {'n_estimators': 170, 'max_depth': 27, 'min_samples_leaf': 5}. Best is trial 14 with value: 0.9788797061524334.\u001b[0m\n",
      "\u001b[32m[I 2022-08-14 23:42:42,659]\u001b[0m Trial 39 finished with value: 0.9788797061524334 and parameters: {'n_estimators': 200, 'max_depth': 31, 'min_samples_leaf': 3}. Best is trial 14 with value: 0.9788797061524334.\u001b[0m\n",
      "\u001b[32m[I 2022-08-14 23:42:47,332]\u001b[0m Trial 40 finished with value: 0.9484598963098506 and parameters: {'n_estimators': 380, 'max_depth': 31, 'min_samples_leaf': 5}. Best is trial 14 with value: 0.9788797061524334.\u001b[0m\n",
      "\u001b[32m[I 2022-08-14 23:42:50,100]\u001b[0m Trial 41 finished with value: 0.9788797061524334 and parameters: {'n_estimators': 200, 'max_depth': 30, 'min_samples_leaf': 3}. Best is trial 14 with value: 0.9788797061524334.\u001b[0m\n",
      "\u001b[32m[I 2022-08-14 23:42:53,124]\u001b[0m Trial 42 finished with value: 0.9779816513761468 and parameters: {'n_estimators': 220, 'max_depth': 32, 'min_samples_leaf': 3}. Best is trial 14 with value: 0.9788797061524334.\u001b[0m\n",
      "\u001b[32m[I 2022-08-14 23:42:55,605]\u001b[0m Trial 43 finished with value: 0.978267523722069 and parameters: {'n_estimators': 180, 'max_depth': 30, 'min_samples_leaf': 3}. Best is trial 14 with value: 0.9788797061524334.\u001b[0m\n",
      "\u001b[32m[I 2022-08-14 23:42:57,820]\u001b[0m Trial 44 finished with value: 0.977328431372549 and parameters: {'n_estimators': 160, 'max_depth': 20, 'min_samples_leaf': 3}. Best is trial 14 with value: 0.9788797061524334.\u001b[0m\n",
      "\u001b[32m[I 2022-08-14 23:43:01,018]\u001b[0m Trial 45 finished with value: 0.9773561811505507 and parameters: {'n_estimators': 240, 'max_depth': 34, 'min_samples_leaf': 3}. Best is trial 14 with value: 0.9788797061524334.\u001b[0m\n",
      "\u001b[32m[I 2022-08-14 23:43:03,555]\u001b[0m Trial 46 finished with value: 0.9587029672682778 and parameters: {'n_estimators': 200, 'max_depth': 34, 'min_samples_leaf': 4}. Best is trial 14 with value: 0.9788797061524334.\u001b[0m\n",
      "\u001b[32m[I 2022-08-14 23:43:06,491]\u001b[0m Trial 47 finished with value: 0.9779816513761468 and parameters: {'n_estimators': 220, 'max_depth': 31, 'min_samples_leaf': 3}. Best is trial 14 with value: 0.9788797061524334.\u001b[0m\n",
      "\u001b[32m[I 2022-08-14 23:43:08,828]\u001b[0m Trial 48 finished with value: 0.9584097859327219 and parameters: {'n_estimators': 180, 'max_depth': 28, 'min_samples_leaf': 4}. Best is trial 14 with value: 0.9788797061524334.\u001b[0m\n",
      "\u001b[32m[I 2022-08-14 23:43:12,236]\u001b[0m Trial 49 finished with value: 0.9691225924793642 and parameters: {'n_estimators': 270, 'max_depth': 15, 'min_samples_leaf': 3}. Best is trial 14 with value: 0.9788797061524334.\u001b[0m\n"
     ]
    },
    {
     "name": "stdout",
     "output_type": "stream",
     "text": [
      "Wall time: 2min 27s\n"
     ]
    }
   ],
   "source": [
    "%%time\n",
    "\n",
    "study = optuna.create_study(study_name=\"RandomForestClassifier\", direction=\"maximize\")\n",
    "\n",
    "study.optimize(optuna_rf, n_trials=50)"
   ]
  },
  {
   "cell_type": "code",
   "execution_count": 61,
   "metadata": {},
   "outputs": [
    {
     "name": "stdout",
     "output_type": "stream",
     "text": [
      "f1_score на обучающем наборе: 0.98\n"
     ]
    }
   ],
   "source": [
    "print(\"f1_score на обучающем наборе: {:.2f}\".format(study.best_value))"
   ]
  },
  {
   "cell_type": "markdown",
   "metadata": {},
   "source": [
    "Модель случайного леса на параметрах, подобранных алгоритмом optuna"
   ]
  },
  {
   "cell_type": "code",
   "execution_count": 66,
   "metadata": {},
   "outputs": [
    {
     "name": "stdout",
     "output_type": "stream",
     "text": [
      "              precision    recall  f1-score   support\n",
      "\n",
      "           0       0.81      0.76      0.78       344\n",
      "           1       0.80      0.85      0.83       407\n",
      "\n",
      "    accuracy                           0.81       751\n",
      "   macro avg       0.81      0.80      0.80       751\n",
      "weighted avg       0.81      0.81      0.80       751\n",
      "\n"
     ]
    }
   ],
   "source": [
    "model = ensemble.RandomForestClassifier(**study.best_params,random_state=random_state, )\n",
    "model.fit(X_train, y_train)\n",
    "y_train_pred = model.predict(X_train)\n",
    "y_test_pred = model.predict(X_test)\n",
    "print(metrics.classification_report(y_test, y_test_pred))"
   ]
  },
  {
   "cell_type": "markdown",
   "metadata": {},
   "source": [
    "Модель логистической регрессии на параметрах, подобранных RandomSearch алгоритмом."
   ]
  },
  {
   "cell_type": "code",
   "execution_count": 67,
   "metadata": {},
   "outputs": [
    {
     "name": "stdout",
     "output_type": "stream",
     "text": [
      "              precision    recall  f1-score   support\n",
      "\n",
      "           0       0.77      0.72      0.74       344\n",
      "           1       0.77      0.82      0.79       407\n",
      "\n",
      "    accuracy                           0.77       751\n",
      "   macro avg       0.77      0.77      0.77       751\n",
      "weighted avg       0.77      0.77      0.77       751\n",
      "\n"
     ]
    }
   ],
   "source": [
    "model_lr=linear_model.LogisticRegression(**random_search.best_params_, random_state=random_state, max_iter=1000)\n",
    "\n",
    "model_lr.fit(X_train, y_train)\n",
    "y_test_preds=model_lr.predict(X_test)\n",
    "\n",
    "print(metrics.classification_report(y_test, y_test_preds))"
   ]
  },
  {
   "cell_type": "code",
   "execution_count": null,
   "metadata": {},
   "outputs": [],
   "source": []
  }
 ],
 "metadata": {
  "kernelspec": {
   "display_name": "Python 3.8.8 ('base')",
   "language": "python",
   "name": "python3"
  },
  "language_info": {
   "codemirror_mode": {
    "name": "ipython",
    "version": 3
   },
   "file_extension": ".py",
   "mimetype": "text/x-python",
   "name": "python",
   "nbconvert_exporter": "python",
   "pygments_lexer": "ipython3",
   "version": "3.8.8"
  },
  "orig_nbformat": 4,
  "vscode": {
   "interpreter": {
    "hash": "ad2bdc8ecc057115af97d19610ffacc2b4e99fae6737bb82f5d7fb13d2f2c186"
   }
  }
 },
 "nbformat": 4,
 "nbformat_minor": 2
}
